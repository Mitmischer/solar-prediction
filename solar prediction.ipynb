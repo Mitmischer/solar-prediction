{
 "cells": [
  {
   "cell_type": "code",
   "execution_count": null,
   "id": "36f502f1-ed6e-453a-852b-dd8e605c1799",
   "metadata": {},
   "outputs": [],
   "source": [
    "import pandas as pd\n",
    "import numpy as np\n",
    "from statsmodels.tsa.stattools import adfuller"
   ]
  },
  {
   "cell_type": "code",
   "execution_count": null,
   "id": "9b576bdd-dde5-4cf9-9ccc-ce9ae674c14b",
   "metadata": {},
   "outputs": [],
   "source": [
    "# with pandas 2.0, one could use date_format='%Y-%m-%d %H:%M:%S%z', but that's not yet available on Arch Linux\n",
    "solar_ts=pd.read_csv(\"data/energy_charts.csv\", sep=\",\", header=0)#date_format='%Y-%m-%d %H:%M:%S%z')#parse_dates={\"date\": [\"Datum\"]})"
   ]
  },
  {
   "cell_type": "code",
   "execution_count": null,
   "id": "531cc0d3-b869-44b4-9afb-3d1cf5e9fe20",
   "metadata": {},
   "outputs": [],
   "source": [
    "solar_ts['Datum']=pd.to_datetime(solar_ts['Datum'], format='%Y-%m-%d %H:%M:%S%z', utc=True)\n",
    "solar_ts=solar_ts.set_index(keys=\"Datum\",drop=True)\n",
    "solar_ts.plot()"
   ]
  },
  {
   "cell_type": "code",
   "execution_count": null,
   "id": "80e15e8b-a040-4f18-8f7f-2355d45143df",
   "metadata": {},
   "outputs": [],
   "source": [
    "adfresult = adfuller(solar_ts[2:30000])\n",
    "print(adfresult[0])\n",
    "print(adfresult[1])"
   ]
  },
  {
   "cell_type": "code",
   "execution_count": null,
   "id": "69a0a4a7-b3e5-4c89-8a15-f4fe4d04dcb0",
   "metadata": {},
   "outputs": [],
   "source": [
    "# see https://stackoverflow.com/questions/30379789/plot-pandas-data-frame-with-year-over-year-data\n",
    "pv = pd.pivot_table(solar_ts, index=solar_ts.index.dayofyear, columns=solar_ts.index.year,\n",
    "                    values='Leistung', aggfunc='sum')\n",
    "pv.plot(cmap=\"Grays\")"
   ]
  },
  {
   "cell_type": "code",
   "execution_count": null,
   "id": "dd0a7dba-0fcc-4035-b780-71ebc35ad6b9",
   "metadata": {},
   "outputs": [],
   "source": [
    "# see https://stackoverflow.com/questions/30379789/plot-pandas-data-frame-with-year-over-year-data\n",
    "pv = pd.pivot_table(solar_ts, index=solar_ts.index.month, columns=solar_ts.index.year,\n",
    "                    values='Leistung', aggfunc='sum')\n",
    "pv.plot(cmap=\"Grays\")"
   ]
  },
  {
   "cell_type": "code",
   "execution_count": null,
   "id": "6379a931-52ec-4f08-9637-b0ca016cac9a",
   "metadata": {},
   "outputs": [],
   "source": [
    "# An example of a gap in the data\n",
    "# TODO: Also, there is duplicate data here that pandas duplicated-function will not find...?\n",
    "solar_ts.index[5660:5680]"
   ]
  },
  {
   "cell_type": "code",
   "execution_count": null,
   "id": "cd59dcef-6826-4a52-9727-5109d6e44eba",
   "metadata": {},
   "outputs": [],
   "source": [
    "pd.Series(solar_ts.index.duplicated()).value_counts()"
   ]
  },
  {
   "cell_type": "code",
   "execution_count": null,
   "id": "cf15e79e-23c9-46e0-bc0d-c2548153c3ef",
   "metadata": {},
   "outputs": [],
   "source": [
    "(pd.Series(solar_ts.index[5660:5680]).diff())"
   ]
  },
  {
   "cell_type": "code",
   "execution_count": null,
   "id": "a8705cd7-e2e5-4167-bcea-a6c0b9f4507e",
   "metadata": {},
   "outputs": [],
   "source": [
    "# Those values need imputation!\n",
    "pd.date_range(solar_ts.index.min(), solar_ts.index.max(), freq='15Min').difference(solar_ts.index)"
   ]
  },
  {
   "cell_type": "code",
   "execution_count": null,
   "id": "a7261491-58cb-4e1c-96b5-e436eaa70ca4",
   "metadata": {},
   "outputs": [],
   "source": [
    "# This add NaN as value for the missing indices, we can impute this later.\n",
    "solar_ts = solar_ts.resample(\"15Min\").first()\n",
    "# As only a few values need imputation, so the choice of the imputation algorithm does not matter much.\n",
    "solar_ts = solar_ts.interpolate(method=\"time\")\n",
    "# Only now can we infer a frequency.\n",
    "solar_ts=solar_ts.asfreq(pd.infer_freq(solar_ts.index))"
   ]
  },
  {
   "cell_type": "code",
   "execution_count": null,
   "id": "73f95b7c-7088-4f79-90a0-9842e9b2111a",
   "metadata": {},
   "outputs": [],
   "source": [
    "# There are no duplicated dates, good!\n",
    "# (Although, a bit questionable, see above)\n",
    "np.count_nonzero(solar_ts.index.duplicated())"
   ]
  },
  {
   "cell_type": "code",
   "execution_count": null,
   "id": "e98ea80c-b9a6-4606-b896-74353461c4af",
   "metadata": {},
   "outputs": [],
   "source": [
    "solar_ts=solar_ts.asfreq(pd.infer_freq(solar_ts.index))"
   ]
  },
  {
   "cell_type": "code",
   "execution_count": null,
   "id": "31293d6a-c751-4c2a-81ab-cb7f3607a482",
   "metadata": {},
   "outputs": [],
   "source": [
    "solar_ts.plot()"
   ]
  },
  {
   "cell_type": "code",
   "execution_count": null,
   "id": "9e1fc4d2-697a-46e1-8334-6f33afebf42f",
   "metadata": {},
   "outputs": [],
   "source": [
    "solar_ts_series = solar_ts.Leistung"
   ]
  },
  {
   "cell_type": "code",
   "execution_count": null,
   "id": "952d5c34-5c75-473a-ab94-ff61c9886873",
   "metadata": {},
   "outputs": [],
   "source": [
    "# Normalize\n",
    "avg, dev = solar_ts_series.mean(), solar_ts_series.std()\n",
    "solar_ts_series = (solar_ts_series - avg)/dev\n",
    "solar_ts_series.plot()"
   ]
  },
  {
   "cell_type": "code",
   "execution_count": null,
   "id": "d21fa836-fe31-41ff-a6aa-d316bb924aa4",
   "metadata": {},
   "outputs": [],
   "source": [
    "# Remove trend (TODO: compare with the approach in the Fourier series video, where they also detrend?)\n",
    "solar_ts_series = solar_ts_series.diff().dropna()\n",
    "solar_ts_series.plot()"
   ]
  },
  {
   "cell_type": "code",
   "execution_count": null,
   "id": "c679ad7c-345e-48fc-9494-a16aed55b2fd",
   "metadata": {},
   "outputs": [],
   "source": [
    "# Consider taking another difference: solar_ts_series = solar_ts_series.diff().dropna()\n",
    "# solar_ts_series.plot()"
   ]
  },
  {
   "cell_type": "code",
   "execution_count": null,
   "id": "0b4f9996-9027-4563-b643-44ffec5fd885",
   "metadata": {},
   "outputs": [],
   "source": [
    "# remove increasing volatility - or (TODO: use a (G)ARCH here).\n",
    "annual_volatility = solar_ts_series.groupby(solar_ts_series.index.year).std()\n",
    "annual_vol_per_day = solar_ts_series.index.map(lambda d: annual_volatility.loc[d.year])\n",
    "solar_ts_series_corrected_variance = solar_ts_series/annual_vol_per_day"
   ]
  },
  {
   "cell_type": "code",
   "execution_count": null,
   "id": "4d177d73-7d2c-48cc-92d6-f51f05027512",
   "metadata": {},
   "outputs": [],
   "source": [
    "annual_volatility"
   ]
  },
  {
   "cell_type": "code",
   "execution_count": null,
   "id": "d04b68af-4702-4f76-92b6-ddce38ff8734",
   "metadata": {},
   "outputs": [],
   "source": [
    "annual_vol_per_day"
   ]
  },
  {
   "cell_type": "code",
   "execution_count": null,
   "id": "4f1de49e-6a34-4fcc-a69d-bc45b911a217",
   "metadata": {},
   "outputs": [],
   "source": [
    "solar_ts_series_corrected_variance.plot()"
   ]
  },
  {
   "cell_type": "code",
   "execution_count": null,
   "id": "a0b21932-91ff-4b0a-afa4-149e15168810",
   "metadata": {},
   "outputs": [],
   "source": [
    "# ritvik takes monthly means here\n",
    "# why not take dayofyear?\n",
    "monthly_mean = solar_ts_series_corrected_variance.groupby(solar_ts_series_corrected_variance.index.month).mean()\n",
    "monthly_mean_per_day = solar_ts_series_corrected_variance.index.map(lambda d: monthly_mean.loc[d.month])"
   ]
  },
  {
   "cell_type": "code",
   "execution_count": null,
   "id": "895cfec4-0707-458f-8049-c302c45e8b6d",
   "metadata": {},
   "outputs": [],
   "source": [
    "solar_ts_series_corrected_variance= solar_ts_series_corrected_variance - monthly_mean_per_day"
   ]
  },
  {
   "cell_type": "code",
   "execution_count": null,
   "id": "a5e34a52-00b7-47f0-baef-cc93756608e3",
   "metadata": {},
   "outputs": [],
   "source": [
    "solar_ts_series_corrected_variance.plot()"
   ]
  },
  {
   "cell_type": "code",
   "execution_count": null,
   "id": "41265201-fad2-46bc-a641-6029a9103b7e",
   "metadata": {},
   "outputs": [],
   "source": [
    "# we only take the first few samples as my RAM explodes otherwise\n",
    "adfresult = adfuller(solar_ts_series_corrected_variance[3:30000])\n",
    "print(adfresult[0])\n",
    "print(adfresult[1])\n",
    "adfresult = adfuller(solar_ts_series_corrected_variance[120000:150000])\n",
    "print(adfresult[0])\n",
    "print(adfresult[1])"
   ]
  }
 ],
 "metadata": {
  "kernelspec": {
   "display_name": "Python 3 (ipykernel)",
   "language": "python",
   "name": "python3"
  },
  "language_info": {
   "codemirror_mode": {
    "name": "ipython",
    "version": 3
   },
   "file_extension": ".py",
   "mimetype": "text/x-python",
   "name": "python",
   "nbconvert_exporter": "python",
   "pygments_lexer": "ipython3",
   "version": "3.12.3"
  }
 },
 "nbformat": 4,
 "nbformat_minor": 5
}
