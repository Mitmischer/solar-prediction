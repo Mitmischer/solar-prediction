{
 "cells": [
  {
   "cell_type": "code",
   "execution_count": null,
   "id": "36f502f1-ed6e-453a-852b-dd8e605c1799",
   "metadata": {},
   "outputs": [],
   "source": [
    "import pandas as pd\n",
    "import numpy as np\n",
    "from statsmodels.tsa.stattools import adfuller"
   ]
  },
  {
   "cell_type": "code",
   "execution_count": null,
   "id": "9b576bdd-dde5-4cf9-9ccc-ce9ae674c14b",
   "metadata": {},
   "outputs": [],
   "source": [
    "# with pandas 2.0, one could use date_format='%Y-%m-%d %H:%M:%S%z', but that's not yet available on Arch Linux\n",
    "solar_ts=pd.read_csv(\"data/energy_charts.csv\", sep=\",\", header=0)#date_format='%Y-%m-%d %H:%M:%S%z')#parse_dates={\"date\": [\"Datum\"]})"
   ]
  },
  {
   "cell_type": "code",
   "execution_count": null,
   "id": "ae1f347d",
   "metadata": {},
   "outputs": [],
   "source": [
    "print(solar_ts['Datum'])"
   ]
  },
  {
   "cell_type": "code",
   "execution_count": null,
   "id": "531cc0d3-b869-44b4-9afb-3d1cf5e9fe20",
   "metadata": {},
   "outputs": [],
   "source": [
    "solar_ts['Datum']=pd.to_datetime(solar_ts['Datum'], format='%Y-%m-%dT%H:%M%z', utc=True)\n",
    "solar_ts=solar_ts.set_index(keys=\"Datum\",drop=True)\n",
    "solar_ts.plot()"
   ]
  },
  {
   "cell_type": "code",
   "execution_count": null,
   "id": "80e15e8b-a040-4f18-8f7f-2355d45143df",
   "metadata": {},
   "outputs": [],
   "source": [
    "adfresult = adfuller(solar_ts[2:30000])\n",
    "print(adfresult[0])\n",
    "print(adfresult[1])"
   ]
  },
  {
   "cell_type": "code",
   "execution_count": null,
   "id": "69a0a4a7-b3e5-4c89-8a15-f4fe4d04dcb0",
   "metadata": {},
   "outputs": [],
   "source": [
    "# see https://stackoverflow.com/questions/30379789/plot-pandas-data-frame-with-year-over-year-data\n",
    "pv = pd.pivot_table(solar_ts, index=solar_ts.index.dayofyear, columns=solar_ts.index.year,\n",
    "                    values='Leistung', aggfunc='sum')\n",
    "pv.plot(cmap=\"Grays\")"
   ]
  },
  {
   "cell_type": "code",
   "execution_count": null,
   "id": "dd0a7dba-0fcc-4035-b780-71ebc35ad6b9",
   "metadata": {},
   "outputs": [],
   "source": [
    "# see https://stackoverflow.com/questions/30379789/plot-pandas-data-frame-with-year-over-year-data\n",
    "pv = pd.pivot_table(solar_ts, index=solar_ts.index.month, columns=solar_ts.index.year,\n",
    "                    values='Leistung', aggfunc='sum')\n",
    "pv.plot(cmap=\"Grays\")"
   ]
  },
  {
   "cell_type": "code",
   "execution_count": null,
   "id": "6379a931-52ec-4f08-9637-b0ca016cac9a",
   "metadata": {},
   "outputs": [],
   "source": [
    "# An example of a gap in the data\n",
    "# TODO: Also, there is duplicate data here that pandas duplicated-function will not find...?\n",
    "solar_ts.index[5660:5680]"
   ]
  },
  {
   "cell_type": "code",
   "execution_count": null,
   "id": "cd59dcef-6826-4a52-9727-5109d6e44eba",
   "metadata": {},
   "outputs": [],
   "source": [
    "pd.Series(solar_ts.index.duplicated()).value_counts()"
   ]
  },
  {
   "cell_type": "code",
   "execution_count": null,
   "id": "cf15e79e-23c9-46e0-bc0d-c2548153c3ef",
   "metadata": {},
   "outputs": [],
   "source": [
    "(pd.Series(solar_ts.index[5660:5680]).diff())"
   ]
  },
  {
   "cell_type": "code",
   "execution_count": null,
   "id": "a8705cd7-e2e5-4167-bcea-a6c0b9f4507e",
   "metadata": {},
   "outputs": [],
   "source": [
    "# Those values need imputation!\n",
    "pd.date_range(solar_ts.index.min(), solar_ts.index.max(), freq='15Min').difference(solar_ts.index)"
   ]
  },
  {
   "cell_type": "code",
   "execution_count": null,
   "id": "a7261491-58cb-4e1c-96b5-e436eaa70ca4",
   "metadata": {},
   "outputs": [],
   "source": [
    "# This add NaN as value for the missing indices, we can impute this later.\n",
    "solar_ts = solar_ts.resample(\"15Min\").first()\n",
    "# As only a few values need imputation, so the choice of the imputation algorithm does not matter much.\n",
    "solar_ts = solar_ts.interpolate(method=\"time\")\n",
    "# Only now can we infer a frequency.\n",
    "solar_ts=solar_ts.asfreq(pd.infer_freq(solar_ts.index))"
   ]
  },
  {
   "cell_type": "code",
   "execution_count": null,
   "id": "73f95b7c-7088-4f79-90a0-9842e9b2111a",
   "metadata": {},
   "outputs": [],
   "source": [
    "# There are no duplicated dates, good!\n",
    "# (Although, a bit questionable, see above)\n",
    "np.count_nonzero(solar_ts.index.duplicated())"
   ]
  },
  {
   "cell_type": "code",
   "execution_count": null,
   "id": "e98ea80c-b9a6-4606-b896-74353461c4af",
   "metadata": {},
   "outputs": [],
   "source": [
    "solar_ts=solar_ts.asfreq(pd.infer_freq(solar_ts.index))"
   ]
  },
  {
   "cell_type": "code",
   "execution_count": null,
   "id": "31293d6a-c751-4c2a-81ab-cb7f3607a482",
   "metadata": {},
   "outputs": [],
   "source": [
    "solar_ts.plot()"
   ]
  },
  {
   "cell_type": "code",
   "execution_count": null,
   "id": "9e1fc4d2-697a-46e1-8334-6f33afebf42f",
   "metadata": {},
   "outputs": [],
   "source": [
    "solar_ts_series = solar_ts.Leistung"
   ]
  },
  {
   "cell_type": "code",
   "execution_count": null,
   "id": "952d5c34-5c75-473a-ab94-ff61c9886873",
   "metadata": {},
   "outputs": [],
   "source": [
    "# Normalize\n",
    "avg, dev = solar_ts_series.mean(), solar_ts_series.std()\n",
    "solar_ts_series = (solar_ts_series - avg)/dev\n",
    "solar_ts_series.plot()"
   ]
  },
  {
   "cell_type": "code",
   "execution_count": null,
   "id": "d21fa836-fe31-41ff-a6aa-d316bb924aa4",
   "metadata": {},
   "outputs": [],
   "source": [
    "# Remove trend (TODO: compare with the approach in the Fourier series video, where they also detrend?)\n",
    "solar_ts_series = solar_ts_series.diff().dropna()\n",
    "solar_ts_series.plot()"
   ]
  },
  {
   "cell_type": "code",
   "execution_count": null,
   "id": "c679ad7c-345e-48fc-9494-a16aed55b2fd",
   "metadata": {},
   "outputs": [],
   "source": [
    "# Consider taking another difference: solar_ts_series = solar_ts_series.diff().dropna()\n",
    "# solar_ts_series.plot()"
   ]
  },
  {
   "cell_type": "code",
   "execution_count": null,
   "id": "0b4f9996-9027-4563-b643-44ffec5fd885",
   "metadata": {},
   "outputs": [],
   "source": [
    "# remove increasing volatility - or (TODO: use a (G)ARCH here).\n",
    "annual_volatility = solar_ts_series.groupby(solar_ts_series.index.year).std()\n",
    "annual_vol_per_day = solar_ts_series.index.map(lambda d: annual_volatility.loc[d.year])\n",
    "solar_ts_series_corrected_variance = solar_ts_series/annual_vol_per_day"
   ]
  },
  {
   "cell_type": "code",
   "execution_count": null,
   "id": "4d177d73-7d2c-48cc-92d6-f51f05027512",
   "metadata": {},
   "outputs": [],
   "source": [
    "annual_volatility"
   ]
  },
  {
   "cell_type": "code",
   "execution_count": null,
   "id": "d04b68af-4702-4f76-92b6-ddce38ff8734",
   "metadata": {},
   "outputs": [],
   "source": [
    "annual_vol_per_day"
   ]
  },
  {
   "cell_type": "code",
   "execution_count": null,
   "id": "4f1de49e-6a34-4fcc-a69d-bc45b911a217",
   "metadata": {},
   "outputs": [],
   "source": [
    "solar_ts_series_corrected_variance.plot()"
   ]
  },
  {
   "cell_type": "code",
   "execution_count": null,
   "id": "a0b21932-91ff-4b0a-afa4-149e15168810",
   "metadata": {},
   "outputs": [],
   "source": [
    "# ritvik takes monthly means here\n",
    "# why not take dayofyear?\n",
    "monthly_mean = solar_ts_series_corrected_variance.groupby(solar_ts_series_corrected_variance.index.month).mean()\n",
    "monthly_mean_per_day = solar_ts_series_corrected_variance.index.map(lambda d: monthly_mean.loc[d.month])"
   ]
  },
  {
   "cell_type": "code",
   "execution_count": null,
   "id": "895cfec4-0707-458f-8049-c302c45e8b6d",
   "metadata": {},
   "outputs": [],
   "source": [
    "solar_ts_series_corrected_variance= solar_ts_series_corrected_variance - monthly_mean_per_day"
   ]
  },
  {
   "cell_type": "code",
   "execution_count": null,
   "id": "a5e34a52-00b7-47f0-baef-cc93756608e3",
   "metadata": {},
   "outputs": [],
   "source": [
    "solar_ts_series_corrected_variance.plot()"
   ]
  },
  {
   "cell_type": "code",
   "execution_count": null,
   "id": "41265201-fad2-46bc-a641-6029a9103b7e",
   "metadata": {},
   "outputs": [],
   "source": [
    "# we only take the first few samples as my RAM explodes otherwise\n",
    "adfresult = adfuller(solar_ts_series_corrected_variance[3:30000])\n",
    "print(adfresult[0])\n",
    "print(adfresult[1])\n",
    "adfresult = adfuller(solar_ts_series_corrected_variance[120000:150000])\n",
    "print(adfresult[0])\n",
    "print(adfresult[1])"
   ]
  },
  {
   "cell_type": "markdown",
   "id": "cc0410b6",
   "metadata": {},
   "source": [
    "# Naive Model and Backtesting"
   ]
  },
  {
   "cell_type": "code",
   "execution_count": null,
   "id": "dec4f289",
   "metadata": {},
   "outputs": [],
   "source": [
    "import matplotlib.pyplot as plt\n",
    "from sklearn.ensemble import RandomForestRegressor"
   ]
  },
  {
   "cell_type": "code",
   "execution_count": null,
   "id": "dfe5c553",
   "metadata": {},
   "outputs": [],
   "source": [
    "# Data Preparation for Naive Model\n",
    "ts = solar_ts_series_corrected_variance\n",
    "ts = ts.dropna()"
   ]
  },
  {
   "cell_type": "code",
   "execution_count": null,
   "id": "1712f878",
   "metadata": {},
   "outputs": [],
   "source": [
    "# Moving average model\n",
    "def moving_average(data: pd.DataFrame, window_size: int=4*3, shift_size: int=96):\n",
    "    moving_avg = data.rolling(window=window_size).mean()\n",
    "    shifted_moving_avg = moving_avg.shift(shift_size)\n",
    "    return(shifted_moving_avg)"
   ]
  },
  {
   "cell_type": "code",
   "execution_count": null,
   "id": "0a5fc6f0",
   "metadata": {},
   "outputs": [],
   "source": [
    "# Plot Naive Model\n",
    "naive_model = moving_average(ts)\n",
    "\n",
    "test_date_start = '2024-01-01 00:00+00:00'\n",
    "test_ts = ts[test_date_start:]\n",
    "naive_model_print = naive_model[test_date_start:]\n",
    "\n",
    "plt.figure(figsize=(12, 6))\n",
    "plt.plot(test_ts.index, test_ts, label='Original')\n",
    "plt.plot(naive_model_print.index, naive_model_print, label='Moving average', linestyle='--')\n",
    "plt.legend()\n",
    "plt.title('Naive Model v.s. Original Data')\n",
    "plt.xlabel('Date')\n",
    "plt.ylabel('Time Series')\n",
    "plt.show()"
   ]
  },
  {
   "cell_type": "code",
   "execution_count": null,
   "id": "795ce79d",
   "metadata": {},
   "outputs": [],
   "source": [
    "class TimeSeriesPredictionModel():\n",
    "    \"\"\"\n",
    "    Time series prediction model implementation\n",
    "    \n",
    "    Parameters\n",
    "    ----------\n",
    "        model_name : class\n",
    "            Choice of regressor\n",
    "        model_params : dict\n",
    "            Definition of model specific tuning parameters\n",
    "    \n",
    "    Functions\n",
    "    ----------\n",
    "        train : Train chosen model\n",
    "        forcast : Apply trained model to prediction period and generate forecast DataFrame\n",
    "    \"\"\"\n",
    "    def __init__(self, model_name, \n",
    "                 model_params: dict) -> None:\n",
    "        \"\"\"Initialize a new instance of time_series_prediction_model.\"\"\"\n",
    "        self.model = model_name(**model_params) \n",
    "    \n",
    "    def train(self, X_train: pd.DataFrame, y_train: pd.Series) -> None:\n",
    "        \"\"\"Train chosen model.\"\"\"\n",
    "        self.X_train = X_train\n",
    "        self.y_train = y_train\n",
    "        self.model.fit(self.X_train, self.y_train)\n",
    "    \n",
    "    def forecast(self, X_test: pd.DataFrame) -> pd.DataFrame:\n",
    "        \"\"\"Apply trained model to prediction period and generate forecast DataFrame.\"\"\"\n",
    "        self.X_test = X_test\n",
    "        forecast_df = pd.DataFrame(self.model.predict(self.X_test), index=self.X_test.index)\n",
    "        forecast_df.index.name = 'Datum'\n",
    "        return forecast_df"
   ]
  },
  {
   "cell_type": "code",
   "execution_count": null,
   "id": "f2858dc0",
   "metadata": {},
   "outputs": [],
   "source": [
    "# Dummy data preparation for TimeSeriesPredictionModel\n",
    "\n",
    "data = pd.DataFrame(index=ts.index, columns=['25h_lag', '24h_lag', 'Original'])\n",
    "data['Original'] = ts\n",
    "data['24h_lag'] = ts.shift(96)\n",
    "data['25h_lag'] = ts.shift(100)\n",
    "\n",
    "data"
   ]
  },
  {
   "cell_type": "code",
   "execution_count": null,
   "id": "16f82045",
   "metadata": {},
   "outputs": [],
   "source": [
    "test_date_start = '2024-01-01 00:00+00:00'"
   ]
  },
  {
   "cell_type": "code",
   "execution_count": null,
   "id": "b731674e",
   "metadata": {},
   "outputs": [],
   "source": [
    "# Dummy Data train-test split\n",
    "train_df = data[:test_date_start]\n",
    "train_df = train_df.drop(train_df.tail(1).index)\n",
    "X_train = train_df[['25h_lag', '24h_lag']]\n",
    "y_train = train_df[['Original']]\n",
    "\n",
    "test_df = data[test_date_start:]\n",
    "X_test = test_df[['25h_lag', '24h_lag']]\n",
    "y_test = test_df[['Original']]"
   ]
  },
  {
   "cell_type": "code",
   "execution_count": null,
   "id": "3330d3ca",
   "metadata": {},
   "outputs": [],
   "source": [
    "# Backtesting mit Sliding Window\n",
    "\n",
    "def backtesting(X_train: pd.DataFrame, y_train: pd.DataFrame,\n",
    "                X_test: pd.DataFrame, y_test: pd.DataFrame,\n",
    "                model: TimeSeriesPredictionModel, prediction_step_size: int=96):\n",
    "\n",
    "    # initializing output df\n",
    "    predictions = pd.DataFrame(index=y_test.index, columns=['Original', 'Predictions'])\n",
    "    predictions['Original'] = y_test\n",
    "\n",
    "    for i in range(0, len(X_test)-prediction_step_size, prediction_step_size):\n",
    "        end_idx = i + prediction_step_size\n",
    "        forecast_index= X_test.iloc[i:end_idx].index\n",
    "        \n",
    "        # fit model and predict\n",
    "        model.train(X_train, y_train)\n",
    "        forecast = model.forecast(X_test.iloc[i:end_idx])\n",
    "        predictions.loc[forecast_index, 'Predictions'] = forecast.to_numpy()\n",
    "    \n",
    "        print(f'Finished Forecast for {forecast_index[-1].date()}')\n",
    "\n",
    "        # delete old time window from train data\n",
    "        X_train = X_train.drop(X_train.head(prediction_step_size).index)\n",
    "        y_train = y_train.drop(y_train.head(prediction_step_size).index)\n",
    "\n",
    "        # add next time window to train data\n",
    "        X_train = pd.concat([X_train, X_test.iloc[i:end_idx]])\n",
    "        y_train = pd.concat([y_train, y_test.iloc[i:end_idx]])\n",
    "\n",
    "    return predictions"
   ]
  },
  {
   "cell_type": "code",
   "execution_count": null,
   "id": "be653365",
   "metadata": {},
   "outputs": [],
   "source": [
    "# Initializing random forest regressor as instance of TimeSeriesPredictionModel\n",
    "rdnf = TimeSeriesPredictionModel(RandomForestRegressor, {'n_estimators': 10, 'criterion': 'squared_error', 'max_depth': 5})"
   ]
  },
  {
   "cell_type": "code",
   "execution_count": null,
   "id": "9c31d415",
   "metadata": {},
   "outputs": [],
   "source": [
    "rdnf_pred = backtesting(X_train, y_train, X_test, y_test, rdnf)"
   ]
  },
  {
   "cell_type": "code",
   "execution_count": null,
   "id": "c3ecffe4",
   "metadata": {},
   "outputs": [],
   "source": [
    "rdnf_pred = rdnf_pred.dropna() # ausgehend vom ersten Testzeitraum werden nur vollständige Test-Perioden predicted\n",
    "rdnf_pred.plot()"
   ]
  },
  {
   "cell_type": "code",
   "execution_count": null,
   "id": "7ac37442",
   "metadata": {},
   "outputs": [],
   "source": [
    "# Metrics\n",
    "\n",
    "from sklearn.metrics import mean_absolute_error, mean_absolute_percentage_error, mean_squared_error, r2_score\n",
    "\n",
    "def evaluation(y_true, y_pred):\n",
    "    \n",
    "    mae = mean_absolute_error(y_true, y_pred)\n",
    "    mape = mean_absolute_percentage_error(y_true, y_pred)\n",
    "    mse = mean_squared_error(y_true, y_pred)\n",
    "    r2 = r2_score(y_true, y_pred)\n",
    "\n",
    "    return mae, mape, mse, r2"
   ]
  },
  {
   "cell_type": "code",
   "execution_count": null,
   "id": "3c607956",
   "metadata": {},
   "outputs": [],
   "source": [
    "mae, mape, mse, r2 = evaluation(rdnf_pred['Original'], rdnf_pred['Predictions'])\n",
    "\n",
    "print(f'Model: Random Forest \\n Mean absolute error: {mae}\\n Mean absolute percentage error: {mape} \\n Mean squared error: {mse} \\n r2_score: {r2}')"
   ]
  },
  {
   "cell_type": "code",
   "execution_count": null,
   "id": "2434ac7e",
   "metadata": {},
   "outputs": [],
   "source": [
    "mae, mape, mse, r2 = evaluation(test_ts, naive_model_print)\n",
    "\n",
    "print(f'Model: Naive Moving Average \\n Mean absolute error: {mae}\\n Mean absolute percentage error: {mape} \\n Mean squared error: {mse} \\n r2_score: {r2}')"
   ]
  }
 ],
 "metadata": {
  "kernelspec": {
   "display_name": "Python 3 (ipykernel)",
   "language": "python",
   "name": "python3"
  },
  "language_info": {
   "codemirror_mode": {
    "name": "ipython",
    "version": 3
   },
   "file_extension": ".py",
   "mimetype": "text/x-python",
   "name": "python",
   "nbconvert_exporter": "python",
   "pygments_lexer": "ipython3",
   "version": "3.12.3"
  }
 },
 "nbformat": 4,
 "nbformat_minor": 5
}
